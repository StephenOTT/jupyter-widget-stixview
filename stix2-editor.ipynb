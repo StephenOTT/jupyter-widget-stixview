{
 "cells": [
  {
   "cell_type": "code",
   "execution_count": 31,
   "metadata": {},
   "outputs": [],
   "source": [
    "import json\n",
    "from jupyter_widget_stixview.widget import StixviewGraph\n",
    "\n",
    "from stix2 import (\n",
    "    Bundle, Indicator, Malware, Relationship,\n",
    "    AttackPattern, Campaign, ThreatActor)\n",
    "\n",
    "\n",
    "def as_bundle(objects):\n",
    "    bundle_obj = Bundle(*objects)\n",
    "    return json.loads(bundle_obj.serialize())"
   ]
  },
  {
   "cell_type": "code",
   "execution_count": 40,
   "metadata": {},
   "outputs": [
    {
     "name": "stdout",
     "output_type": "stream",
     "text": [
      "ANTLR runtime and generated code versions disagree: 4.8!=4.7.1\n",
      "ANTLR runtime and generated code versions disagree: 4.8!=4.7.1\n",
      "ANTLR runtime and generated code versions disagree: 4.8!=4.7.1\n",
      "ANTLR runtime and generated code versions disagree: 4.8!=4.7.1\n",
      "ANTLR runtime and generated code versions disagree: 4.8!=4.7.1\n",
      "ANTLR runtime and generated code versions disagree: 4.8!=4.7.1\n"
     ]
    },
    {
     "data": {
      "application/vnd.jupyter.widget-view+json": {
       "model_id": "ebf134efc6ab4db68c9953506fb6fcfa",
       "version_major": 2,
       "version_minor": 0
      },
      "text/plain": [
       "StixviewGraph(bundle={'objects': [{'name': 'File hash for malware variant X', 'labels': ['malicious-activity']…"
      ]
     },
     "metadata": {},
     "output_type": "display_data"
    }
   ],
   "source": [
    "indicator = Indicator(\n",
    "    name=\"File hash for malware variant X\",\n",
    "    labels=[\"malicious-activity\"],\n",
    "    pattern=\"[file:hashes.md5 = 'd41d8cd98f00b204e9800998ecf8427e']\")\n",
    "\n",
    "malware = Malware(\n",
    "    name=\"Malware Variant X\",\n",
    "    labels=['remote-access-trojan'])\n",
    "\n",
    "rel1 = Relationship(\n",
    "    source_ref=indicator.id,\n",
    "    relationship_type='indicates',\n",
    "    target_ref=malware.id)\n",
    "\n",
    "campaign = Campaign(name=\"Campaign Y\")\n",
    "\n",
    "rel2 = Relationship(\n",
    "    source_ref=campaign.id,\n",
    "    relationship_type='uses',\n",
    "    target_ref=malware.id)\n",
    "\n",
    "actor = ThreatActor(\n",
    "    name='Actor Z',\n",
    "    labels=['criminal'])\n",
    "\n",
    "rel3 = Relationship(\n",
    "    source_ref=campaign.id,\n",
    "    relationship_type='attributed-to',\n",
    "    target_ref=actor.id)\n",
    "\n",
    "objects = [indicator, malware, rel1, campaign, rel2, actor, rel3]\n",
    "\n",
    "StixviewGraph(\n",
    "    bundle=as_bundle(objects),\n",
    "    properties={\"graphHeight\": 300})"
   ]
  },
  {
   "cell_type": "code",
   "execution_count": null,
   "metadata": {},
   "outputs": [],
   "source": []
  }
 ],
 "metadata": {
  "hide_input": false,
  "kernelspec": {
   "display_name": "Python 3",
   "language": "python",
   "name": "python3"
  },
  "language_info": {
   "codemirror_mode": {
    "name": "ipython",
    "version": 3
   },
   "file_extension": ".py",
   "mimetype": "text/x-python",
   "name": "python",
   "nbconvert_exporter": "python",
   "pygments_lexer": "ipython3",
   "version": "3.7.6"
  }
 },
 "nbformat": 4,
 "nbformat_minor": 4
}
