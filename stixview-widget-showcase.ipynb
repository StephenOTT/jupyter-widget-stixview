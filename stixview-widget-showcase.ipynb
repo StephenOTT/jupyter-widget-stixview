{
 "cells": [
  {
   "cell_type": "code",
   "execution_count": 9,
   "metadata": {},
   "outputs": [],
   "source": [
    "from jupyter_widget_stixview.widget import StixviewGraph"
   ]
  },
  {
   "cell_type": "code",
   "execution_count": 10,
   "metadata": {},
   "outputs": [
    {
     "data": {
      "application/vnd.jupyter.widget-view+json": {
       "model_id": "4b2fd2819a45477b8deedf644cc68e3c",
       "version_major": 2,
       "version_minor": 0
      },
      "text/plain": [
       "StixviewGraph(gist_id='6a0fbb0f6e7faf063c748b23f9c7dc62')"
      ]
     },
     "metadata": {},
     "output_type": "display_data"
    }
   ],
   "source": [
    "# Loading data from Gist -- https://gist.github.com/CaitlinHuey/6a0fbb0f6e7faf063c748b23f9c7dc62\n",
    "\n",
    "StixviewGraph(gist_id=\"6a0fbb0f6e7faf063c748b23f9c7dc62\")"
   ]
  },
  {
   "cell_type": "code",
   "execution_count": 11,
   "metadata": {
    "code_folding": []
   },
   "outputs": [
    {
     "data": {
      "application/vnd.jupyter.widget-view+json": {
       "model_id": "c8c231599fd943618ff9878ad9642a7b",
       "version_major": 2,
       "version_minor": 0
      },
      "text/plain": [
       "StixviewGraph(bundle={'type': 'bundle', 'id': 'bundle--ac946f1d-6a0e-4a9d-bc83-3f1f3bfda6ba', 'spec_version': …"
      ]
     },
     "metadata": {},
     "output_type": "display_data"
    }
   ],
   "source": [
    "# Rendering the graph from data in python\n",
    "\n",
    "bundle_data = {\n",
    "    \"type\": \"bundle\",\n",
    "    \"id\": \"bundle--ac946f1d-6a0e-4a9d-bc83-3f1f3bfda6ba\",\n",
    "    \"spec_version\": \"2.0\",\n",
    "    \"objects\": [\n",
    "        {\n",
    "            \"type\": \"malware\",\n",
    "            \"id\": \"malware--591f0cb7-d66f-4e14-a8e6-5927b597f920\",\n",
    "            \"created\": \"2015-05-15T09:12:16.432Z\",\n",
    "            \"modified\": \"2015-05-15T09:12:16.432Z\",\n",
    "            \"name\": \"Poison Ivy\",\n",
    "            \"description\": \"Poison Ivy is a remote access tool, first released in 2005 but unchanged since 2008. It includes features common to most Windows-based RATs, including key logging, screen capturing, video capturing, file transfers, system administration, password theft, and traffic relaying.\",\n",
    "            \"labels\": [\"remote-access-trojan\"]\n",
    "        },\n",
    "        {\n",
    "            \"type\": \"relationship\",\n",
    "            \"id\": \"relationship--134c393e-cbe0-433c-9a7a-95263ed8578f\",\n",
    "            \"created\": \"2015-05-15T09:12:16.432Z\",\n",
    "            \"modified\": \"2015-05-15T09:12:16.432Z\",\n",
    "            \"relationship_type\": \"mitigates\",\n",
    "            \"source_ref\": \"course-of-action--70b3d5f6-374b-4488-8688-729b6eedac5b\",\n",
    "            \"target_ref\": \"malware--591f0cb7-d66f-4e14-a8e6-5927b597f920\"\n",
    "        },\n",
    "        {\n",
    "            \"type\": \"course-of-action\",\n",
    "            \"id\": \"course-of-action--70b3d5f6-374b-4488-8688-729b6eedac5b\",\n",
    "            \"created_by_ref\": \"identity--81cade27-7df8-4730-836b-62d880e6d9d3\",\n",
    "            \"created\": \"2015-05-15T09:12:16.432Z\",\n",
    "            \"modified\": \"2015-05-15T09:12:16.432Z\",\n",
    "            \"name\": \"Analyze with FireEye Calamine Toolset\",\n",
    "            \"description\": \"Calamine is a set of free tools to help organizations detect and examine Poison Ivy infections on their systems. The package includes these components: PIVY callback-decoding tool (ChopShop Module) and PIVY memory-decoding tool (PIVY PyCommand Script).\",\n",
    "            \"external_references\": []\n",
    "        },\n",
    "        {\n",
    "            \"type\": \"identity\",\n",
    "            \"id\": \"identity--81cade27-7df8-4730-836b-62d880e6d9d3\",\n",
    "            \"created\": \"2015-05-15T09:12:16.432Z\",\n",
    "            \"modified\": \"2015-05-15T09:12:16.432Z\",\n",
    "            \"name\": \"FireEye, Inc.\",\n",
    "            \"identity_class\": \"organization\",\n",
    "            \"sectors\": [\n",
    "                \"technology\"\n",
    "            ]\n",
    "        },\n",
    "    ]\n",
    "}\n",
    "StixviewGraph(\n",
    "    bundle=bundle_data,\n",
    "    properties={\n",
    "        \"graphHeight\": 400,\n",
    "        \"caption\": \"Custom STIX2 bundle\"\n",
    "    })"
   ]
  },
  {
   "cell_type": "code",
   "execution_count": 12,
   "metadata": {},
   "outputs": [
    {
     "data": {
      "application/vnd.jupyter.widget-view+json": {
       "model_id": "67fc222fa6f0415ba50a576196155c7a",
       "version_major": 2,
       "version_minor": 0
      },
      "text/plain": [
       "StixviewGraph(properties={'graphHeight': 600, 'caption': 'Showing a selection of data loaded from URL, without…"
      ]
     },
     "metadata": {},
     "output_type": "display_data"
    }
   ],
   "source": [
    "# Rendering selected entities from a bundle, loaded from remote location\n",
    "\n",
    "poison_ivy_url = \"https://raw.githubusercontent.com/oasis-open/cti-stix2-json-schemas/master/examples/threat-reports/poisonivy.json\"\n",
    "\n",
    "StixviewGraph(\n",
    "    url=poison_ivy_url,\n",
    "    properties={\n",
    "        \"graphHeight\": 600,\n",
    "        \"caption\": \"Showing a selection of data loaded from URL, without a footer\",\n",
    "        \"hideFooter\": True,\n",
    "        \"highlightedObjects\": [\n",
    "            \"course-of-action--70b3d5f6-374b-4488-8688-729b6eedac5b\",\n",
    "            \"identity--81cade27-7df8-4730-836b-62d880e6d9d3\",\n",
    "            \"malware--591f0cb7-d66f-4e14-a8e6-5927b597f920\",\n",
    "            \"report--f2b63e80-b523-4747-a069-35c002c690db\",\n",
    "            \"malware--40e15fa5-df8d-4771-a682-21dab0a024fd\",\n",
    "        ]\n",
    "    })"
   ]
  },
  {
   "cell_type": "code",
   "execution_count": 13,
   "metadata": {},
   "outputs": [
    {
     "data": {
      "application/vnd.jupyter.widget-view+json": {
       "model_id": "cdbe1cb847b84b538ad9b9c897f002dd",
       "version_major": 2,
       "version_minor": 0
      },
      "text/plain": [
       "StixviewGraph(gist_id='6a0fbb0f6e7faf063c748b23f9c7dc62', properties={'disableMouseZoom': True})"
      ]
     },
     "metadata": {},
     "output_type": "display_data"
    }
   ],
   "source": [
    "# A different way to initiate the graph view\n",
    "\n",
    "graph = StixviewGraph()\n",
    "graph.gist_id = \"6a0fbb0f6e7faf063c748b23f9c7dc62\"\n",
    "graph.properties = {\n",
    "    \"disableMouseZoom\": True\n",
    "}\n",
    "\n",
    "graph"
   ]
  }
 ],
 "metadata": {
  "hide_input": false,
  "kernelspec": {
   "display_name": "Python 3",
   "language": "python",
   "name": "python3"
  },
  "language_info": {
   "codemirror_mode": {
    "name": "ipython",
    "version": 3
   },
   "file_extension": ".py",
   "mimetype": "text/x-python",
   "name": "python",
   "nbconvert_exporter": "python",
   "pygments_lexer": "ipython3",
   "version": "3.7.6"
  },
  "widgets": {
   "application/vnd.jupyter.widget-state+json": {
    "state": {
     "0a50785f96f84cc9b09819f219395083": {
      "model_module": "jupyter-widget-stixview",
      "model_module_version": "^1.0.0",
      "model_name": "StixviewGraphModel",
      "state": {
       "_model_module_version": "^1.0.0",
       "_view_module_version": "^1.0.0",
       "bundle": {},
       "gist_file": "",
       "gist_id": "6a0fbb0f6e7faf063c748b23f9c7dc62",
       "layout": "IPY_MODEL_ef62c086122547cb8d59bad63b70e747",
       "properties": {},
       "timeout": 0,
       "url": ""
      }
     },
     "1285cf7949bf469dbacb3f8e4b63bd15": {
      "model_module": "@jupyter-widgets/base",
      "model_module_version": "1.2.0",
      "model_name": "LayoutModel",
      "state": {}
     },
     "2c6d8358325342728e89b64e5a3b374e": {
      "model_module": "@jupyter-widgets/base",
      "model_module_version": "1.2.0",
      "model_name": "LayoutModel",
      "state": {}
     },
     "4a51129d15d0410ea4d442e952f022ce": {
      "model_module": "jupyter-widget-stixview",
      "model_module_version": "^1.0.0",
      "model_name": "StixviewGraphModel",
      "state": {
       "_model_module_version": "^1.0.0",
       "_view_module_version": "^1.0.0",
       "bundle": {
        "id": "bundle--ac946f1d-6a0e-4a9d-bc83-3f1f3bfda6ba",
        "objects": [
         {
          "created": "2015-05-15T09:12:16.432Z",
          "description": "Poison Ivy is a remote access tool, first released in 2005 but unchanged since 2008. It includes features common to most Windows-based RATs, including key logging, screen capturing, video capturing, file transfers, system administration, password theft, and traffic relaying.",
          "id": "malware--591f0cb7-d66f-4e14-a8e6-5927b597f920",
          "labels": [
           "remote-access-trojan"
          ],
          "modified": "2015-05-15T09:12:16.432Z",
          "name": "Poison Ivy",
          "type": "malware"
         },
         {
          "created": "2015-05-15T09:12:16.432Z",
          "id": "relationship--134c393e-cbe0-433c-9a7a-95263ed8578f",
          "modified": "2015-05-15T09:12:16.432Z",
          "relationship_type": "mitigates",
          "source_ref": "course-of-action--70b3d5f6-374b-4488-8688-729b6eedac5b",
          "target_ref": "malware--591f0cb7-d66f-4e14-a8e6-5927b597f920",
          "type": "relationship"
         },
         {
          "created": "2015-05-15T09:12:16.432Z",
          "created_by_ref": "identity--81cade27-7df8-4730-836b-62d880e6d9d3",
          "description": "Calamine is a set of free tools to help organizations detect and examine Poison Ivy infections on their systems. The package includes these components: PIVY callback-decoding tool (ChopShop Module) and PIVY memory-decoding tool (PIVY PyCommand Script).",
          "external_references": [],
          "id": "course-of-action--70b3d5f6-374b-4488-8688-729b6eedac5b",
          "modified": "2015-05-15T09:12:16.432Z",
          "name": "Analyze with FireEye Calamine Toolset",
          "type": "course-of-action"
         },
         {
          "created": "2015-05-15T09:12:16.432Z",
          "id": "identity--81cade27-7df8-4730-836b-62d880e6d9d3",
          "identity_class": "organization",
          "modified": "2015-05-15T09:12:16.432Z",
          "name": "FireEye, Inc.",
          "sectors": [
           "technology"
          ],
          "type": "identity"
         }
        ],
        "spec_version": "2.0",
        "type": "bundle"
       },
       "gist_file": "",
       "gist_id": "",
       "layout": "IPY_MODEL_2c6d8358325342728e89b64e5a3b374e",
       "properties": {
        "caption": "Custom STIX2 bundle",
        "graphHeight": 400
       },
       "timeout": 0,
       "url": ""
      }
     },
     "62415e5a8eb84542b24f4ca2e65a44b0": {
      "model_module": "jupyter-widget-stixview",
      "model_module_version": "^1.0.0",
      "model_name": "StixviewGraphModel",
      "state": {
       "_model_module_version": "^1.0.0",
       "_view_module_version": "^1.0.0",
       "bundle": {},
       "gist_file": "",
       "gist_id": "",
       "layout": "IPY_MODEL_b1bf6231ff4743f5bf9c7d8756856977",
       "properties": {
        "caption": "Showing a selection of data loaded from URL, without a footer",
        "graphHeight": 600,
        "hideFooter": true,
        "highlightedObjects": [
         "course-of-action--70b3d5f6-374b-4488-8688-729b6eedac5b",
         "identity--81cade27-7df8-4730-836b-62d880e6d9d3",
         "malware--591f0cb7-d66f-4e14-a8e6-5927b597f920",
         "report--f2b63e80-b523-4747-a069-35c002c690db",
         "malware--40e15fa5-df8d-4771-a682-21dab0a024fd"
        ]
       },
       "timeout": 0,
       "url": "https://raw.githubusercontent.com/oasis-open/cti-stix2-json-schemas/master/examples/threat-reports/poisonivy.json"
      }
     },
     "62c630c3c0b842a08facb7daaf6cc326": {
      "model_module": "jupyter-widget-stixview",
      "model_module_version": "^1.0.0",
      "model_name": "StixviewGraphModel",
      "state": {
       "_model_module_version": "^1.0.0",
       "_view_module_version": "^1.0.0",
       "bundle": {},
       "gist_file": "",
       "gist_id": "6a0fbb0f6e7faf063c748b23f9c7dc62",
       "layout": "IPY_MODEL_73dd81188ea24414abeb15b79642518f",
       "properties": {
        "disableMouseZoom": true
       },
       "timeout": 0,
       "url": ""
      }
     },
     "6acba81595784c359c4041bbd850b386": {
      "model_module": "jupyter-widget-stixview",
      "model_module_version": "^1.0.2",
      "model_name": "StixviewGraphModel",
      "state": {
       "_model_module_version": "^1.0.2",
       "_view_module_version": "^1.0.2",
       "bundle": {},
       "gist_file": "",
       "gist_id": "6a0fbb0f6e7faf063c748b23f9c7dc62",
       "layout": "IPY_MODEL_92249aa7495946109898eb7e3cdf240c",
       "properties": {
        "disableMouseZoom": true
       },
       "timeout": 0,
       "url": ""
      }
     },
     "73dd81188ea24414abeb15b79642518f": {
      "model_module": "@jupyter-widgets/base",
      "model_module_version": "1.2.0",
      "model_name": "LayoutModel",
      "state": {}
     },
     "92249aa7495946109898eb7e3cdf240c": {
      "model_module": "@jupyter-widgets/base",
      "model_module_version": "1.2.0",
      "model_name": "LayoutModel",
      "state": {}
     },
     "b1bf6231ff4743f5bf9c7d8756856977": {
      "model_module": "@jupyter-widgets/base",
      "model_module_version": "1.2.0",
      "model_name": "LayoutModel",
      "state": {}
     },
     "c8504342a37348a1aa3c0a53f6662d89": {
      "model_module": "@jupyter-widgets/base",
      "model_module_version": "1.2.0",
      "model_name": "LayoutModel",
      "state": {}
     },
     "cc1a87374ad0440eb0517b1af2e9cf86": {
      "model_module": "jupyter-widget-stixview",
      "model_module_version": "^1.0.2",
      "model_name": "StixviewGraphModel",
      "state": {
       "_model_module_version": "^1.0.2",
       "_view_module_version": "^1.0.2",
       "bundle": {},
       "gist_file": "",
       "gist_id": "",
       "layout": "IPY_MODEL_1285cf7949bf469dbacb3f8e4b63bd15",
       "properties": {
        "caption": "Showing a selection of data loaded from URL, without a footer",
        "graphHeight": 600,
        "hideFooter": true,
        "highlightedObjects": [
         "course-of-action--70b3d5f6-374b-4488-8688-729b6eedac5b",
         "identity--81cade27-7df8-4730-836b-62d880e6d9d3",
         "malware--591f0cb7-d66f-4e14-a8e6-5927b597f920",
         "report--f2b63e80-b523-4747-a069-35c002c690db",
         "malware--40e15fa5-df8d-4771-a682-21dab0a024fd"
        ]
       },
       "timeout": 0,
       "url": "https://raw.githubusercontent.com/oasis-open/cti-stix2-json-schemas/master/examples/threat-reports/poisonivy.json"
      }
     },
     "dbb66a66fd8a43f08c4b8cba803ca484": {
      "model_module": "jupyter-widget-stixview",
      "model_module_version": "^1.0.2",
      "model_name": "StixviewGraphModel",
      "state": {
       "_model_module_version": "^1.0.2",
       "_view_module_version": "^1.0.2",
       "bundle": {
        "id": "bundle--ac946f1d-6a0e-4a9d-bc83-3f1f3bfda6ba",
        "objects": [
         {
          "created": "2015-05-15T09:12:16.432Z",
          "description": "Poison Ivy is a remote access tool, first released in 2005 but unchanged since 2008. It includes features common to most Windows-based RATs, including key logging, screen capturing, video capturing, file transfers, system administration, password theft, and traffic relaying.",
          "id": "malware--591f0cb7-d66f-4e14-a8e6-5927b597f920",
          "labels": [
           "remote-access-trojan"
          ],
          "modified": "2015-05-15T09:12:16.432Z",
          "name": "Poison Ivy",
          "type": "malware"
         },
         {
          "created": "2015-05-15T09:12:16.432Z",
          "id": "relationship--134c393e-cbe0-433c-9a7a-95263ed8578f",
          "modified": "2015-05-15T09:12:16.432Z",
          "relationship_type": "mitigates",
          "source_ref": "course-of-action--70b3d5f6-374b-4488-8688-729b6eedac5b",
          "target_ref": "malware--591f0cb7-d66f-4e14-a8e6-5927b597f920",
          "type": "relationship"
         },
         {
          "created": "2015-05-15T09:12:16.432Z",
          "created_by_ref": "identity--81cade27-7df8-4730-836b-62d880e6d9d3",
          "description": "Calamine is a set of free tools to help organizations detect and examine Poison Ivy infections on their systems. The package includes these components: PIVY callback-decoding tool (ChopShop Module) and PIVY memory-decoding tool (PIVY PyCommand Script).",
          "external_references": [],
          "id": "course-of-action--70b3d5f6-374b-4488-8688-729b6eedac5b",
          "modified": "2015-05-15T09:12:16.432Z",
          "name": "Analyze with FireEye Calamine Toolset",
          "type": "course-of-action"
         },
         {
          "created": "2015-05-15T09:12:16.432Z",
          "id": "identity--81cade27-7df8-4730-836b-62d880e6d9d3",
          "identity_class": "organization",
          "modified": "2015-05-15T09:12:16.432Z",
          "name": "FireEye, Inc.",
          "sectors": [
           "technology"
          ],
          "type": "identity"
         }
        ],
        "spec_version": "2.0",
        "type": "bundle"
       },
       "gist_file": "",
       "gist_id": "",
       "layout": "IPY_MODEL_e43be8302eed444eba0cf4922d328d04",
       "properties": {
        "caption": "Custom STIX2 bundle",
        "graphHeight": 400
       },
       "timeout": 0,
       "url": ""
      }
     },
     "e43be8302eed444eba0cf4922d328d04": {
      "model_module": "@jupyter-widgets/base",
      "model_module_version": "1.2.0",
      "model_name": "LayoutModel",
      "state": {}
     },
     "eec6a09964e3429eb05f83e4a15a38ca": {
      "model_module": "jupyter-widget-stixview",
      "model_module_version": "^1.0.2",
      "model_name": "StixviewGraphModel",
      "state": {
       "_model_module_version": "^1.0.2",
       "_view_module_version": "^1.0.2",
       "bundle": {},
       "gist_file": "",
       "gist_id": "6a0fbb0f6e7faf063c748b23f9c7dc62",
       "layout": "IPY_MODEL_c8504342a37348a1aa3c0a53f6662d89",
       "properties": {},
       "timeout": 0,
       "url": ""
      }
     },
     "ef62c086122547cb8d59bad63b70e747": {
      "model_module": "@jupyter-widgets/base",
      "model_module_version": "1.2.0",
      "model_name": "LayoutModel",
      "state": {}
     }
    },
    "version_major": 2,
    "version_minor": 0
   }
  }
 },
 "nbformat": 4,
 "nbformat_minor": 4
}
