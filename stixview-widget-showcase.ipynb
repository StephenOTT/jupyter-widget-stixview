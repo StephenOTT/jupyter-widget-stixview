{
 "cells": [
  {
   "cell_type": "code",
   "execution_count": 1,
   "metadata": {},
   "outputs": [],
   "source": [
    "from jupyter_widget_stixview.widget import StixviewGraph"
   ]
  },
  {
   "cell_type": "code",
   "execution_count": 4,
   "metadata": {},
   "outputs": [
    {
     "data": {
      "application/vnd.jupyter.widget-view+json": {
       "model_id": "b25aae2a40dc43d6935f90b557dfe2bb",
       "version_major": 2,
       "version_minor": 0
      },
      "text/plain": [
       "StixviewGraph(gist_id='6a0fbb0f6e7faf063c748b23f9c7dc62')"
      ]
     },
     "metadata": {},
     "output_type": "display_data"
    }
   ],
   "source": [
    "# Loading data from Gist -- https://gist.github.com/CaitlinHuey/6a0fbb0f6e7faf063c748b23f9c7dc62\n",
    "\n",
    "StixviewGraph(gist_id=\"6a0fbb0f6e7faf063c748b23f9c7dc62\")"
   ]
  },
  {
   "cell_type": "code",
   "execution_count": 2,
   "metadata": {
    "code_folding": []
   },
   "outputs": [
    {
     "data": {
      "application/vnd.jupyter.widget-view+json": {
       "model_id": "6311e99c72eb4e7fb71b53b39ba91bcc",
       "version_major": 2,
       "version_minor": 0
      },
      "text/plain": [
       "StixviewGraph(bundle={'type': 'bundle', 'id': 'bundle--ac946f1d-6a0e-4a9d-bc83-3f1f3bfda6ba', 'spec_version': …"
      ]
     },
     "metadata": {},
     "output_type": "display_data"
    }
   ],
   "source": [
    "# Rendering the graph from data in python\n",
    "\n",
    "bundle_data = {\n",
    "    \"type\": \"bundle\",\n",
    "    \"id\": \"bundle--ac946f1d-6a0e-4a9d-bc83-3f1f3bfda6ba\",\n",
    "    \"spec_version\": \"2.0\",\n",
    "    \"objects\": [\n",
    "        {\n",
    "            \"type\": \"malware\",\n",
    "            \"id\": \"malware--591f0cb7-d66f-4e14-a8e6-5927b597f920\",\n",
    "            \"created\": \"2015-05-15T09:12:16.432Z\",\n",
    "            \"modified\": \"2015-05-15T09:12:16.432Z\",\n",
    "            \"name\": \"Poison Ivy\",\n",
    "            \"description\": \"Poison Ivy is a remote access tool, first released in 2005 but unchanged since 2008. It includes features common to most Windows-based RATs, including key logging, screen capturing, video capturing, file transfers, system administration, password theft, and traffic relaying.\",\n",
    "            \"labels\": [\"remote-access-trojan\"]\n",
    "        },\n",
    "        {\n",
    "            \"type\": \"relationship\",\n",
    "            \"id\": \"relationship--134c393e-cbe0-433c-9a7a-95263ed8578f\",\n",
    "            \"created\": \"2015-05-15T09:12:16.432Z\",\n",
    "            \"modified\": \"2015-05-15T09:12:16.432Z\",\n",
    "            \"relationship_type\": \"mitigates\",\n",
    "            \"source_ref\": \"course-of-action--70b3d5f6-374b-4488-8688-729b6eedac5b\",\n",
    "            \"target_ref\": \"malware--591f0cb7-d66f-4e14-a8e6-5927b597f920\"\n",
    "        },\n",
    "        {\n",
    "            \"type\": \"course-of-action\",\n",
    "            \"id\": \"course-of-action--70b3d5f6-374b-4488-8688-729b6eedac5b\",\n",
    "            \"created_by_ref\": \"identity--81cade27-7df8-4730-836b-62d880e6d9d3\",\n",
    "            \"created\": \"2015-05-15T09:12:16.432Z\",\n",
    "            \"modified\": \"2015-05-15T09:12:16.432Z\",\n",
    "            \"name\": \"Analyze with FireEye Calamine Toolset\",\n",
    "            \"description\": \"Calamine is a set of free tools to help organizations detect and examine Poison Ivy infections on their systems. The package includes these components: PIVY callback-decoding tool (ChopShop Module) and PIVY memory-decoding tool (PIVY PyCommand Script).\",\n",
    "            \"external_references\": []\n",
    "        },\n",
    "        {\n",
    "            \"type\": \"identity\",\n",
    "            \"id\": \"identity--81cade27-7df8-4730-836b-62d880e6d9d3\",\n",
    "            \"created\": \"2015-05-15T09:12:16.432Z\",\n",
    "            \"modified\": \"2015-05-15T09:12:16.432Z\",\n",
    "            \"name\": \"FireEye, Inc.\",\n",
    "            \"identity_class\": \"organization\",\n",
    "            \"sectors\": [\n",
    "                \"technology\"\n",
    "            ]\n",
    "        },\n",
    "    ]\n",
    "}\n",
    "StixviewGraph(\n",
    "    bundle=bundle_data,\n",
    "    properties={\n",
    "        \"graphHeight\": 400,\n",
    "        \"caption\": \"Custom STIX2 bundle\"\n",
    "    })"
   ]
  },
  {
   "cell_type": "code",
   "execution_count": 3,
   "metadata": {},
   "outputs": [
    {
     "data": {
      "application/vnd.jupyter.widget-view+json": {
       "model_id": "c23f9e16e2ed4562b8a20d034878d0fb",
       "version_major": 2,
       "version_minor": 0
      },
      "text/plain": [
       "StixviewGraph(properties={'graphHeight': 600, 'caption': 'Showing a selection of data loaded from URL, without…"
      ]
     },
     "metadata": {},
     "output_type": "display_data"
    }
   ],
   "source": [
    "# Rendering selected entities from a bundle, loaded from remote location\n",
    "\n",
    "poison_ivy_url = \"https://raw.githubusercontent.com/oasis-open/cti-stix2-json-schemas/master/examples/threat-reports/poisonivy.json\"\n",
    "\n",
    "StixviewGraph(\n",
    "    url=poison_ivy_url,\n",
    "    properties={\n",
    "        \"graphHeight\": 600,\n",
    "        \"caption\": \"Showing a selection of data loaded from URL, without a footer\",\n",
    "        \"hideFooter\": True,\n",
    "        \"highlightedObjects\": [\n",
    "            \"course-of-action--70b3d5f6-374b-4488-8688-729b6eedac5b\",\n",
    "            \"identity--81cade27-7df8-4730-836b-62d880e6d9d3\",\n",
    "            \"malware--591f0cb7-d66f-4e14-a8e6-5927b597f920\",\n",
    "            \"report--f2b63e80-b523-4747-a069-35c002c690db\",\n",
    "            \"malware--40e15fa5-df8d-4771-a682-21dab0a024fd\",\n",
    "        ]\n",
    "    })"
   ]
  },
  {
   "cell_type": "code",
   "execution_count": 5,
   "metadata": {},
   "outputs": [
    {
     "data": {
      "application/vnd.jupyter.widget-view+json": {
       "model_id": "91aa74789efb405788abc462e7993698",
       "version_major": 2,
       "version_minor": 0
      },
      "text/plain": [
       "StixviewGraph(gist_id='6a0fbb0f6e7faf063c748b23f9c7dc62', properties={'disableMouseZoom': True})"
      ]
     },
     "metadata": {},
     "output_type": "display_data"
    }
   ],
   "source": [
    "# A different way to initiate the graph view\n",
    "\n",
    "graph = StixviewGraph()\n",
    "graph.gist_id = \"6a0fbb0f6e7faf063c748b23f9c7dc62\"\n",
    "graph.properties = {\n",
    "    \"disableMouseZoom\": True\n",
    "}\n",
    "\n",
    "graph"
   ]
  }
 ],
 "metadata": {
  "hide_input": false,
  "kernelspec": {
   "display_name": "Python 3",
   "language": "python",
   "name": "python3"
  },
  "language_info": {
   "codemirror_mode": {
    "name": "ipython",
    "version": 3
   },
   "file_extension": ".py",
   "mimetype": "text/x-python",
   "name": "python",
   "nbconvert_exporter": "python",
   "pygments_lexer": "ipython3",
   "version": "3.7.6"
  }
 },
 "nbformat": 4,
 "nbformat_minor": 4
}
